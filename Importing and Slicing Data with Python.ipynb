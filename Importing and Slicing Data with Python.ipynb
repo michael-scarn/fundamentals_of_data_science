{
 "cells": [
  {
   "cell_type": "markdown",
   "metadata": {},
   "source": [
    "<h1> Data Science Fundamentals: Importing and Slicing Data with Python </h1>\n",
    "\n",
    "<h2> Introduction </h2>\n",
    "\n",
    "<p> Let's consider the following situation. A ball is dropped from some given height, $h_{o}$, and we set up some device to measure the time it takes to fall to a certain position $p_{1}$. We take this measurement $N$ times and then drop the ball from a new height, $h_{2}$, and again take $N$ measurements. We repeat this process $M$ times and record the measurements in a tabular format to a csv file, as shown below. </p>\n",
    "\n",
    "<table style=\"width:50%\">\n",
    "  <tr>\n",
    "    <th>Position 1</th>\n",
    "    <th>Position 2</th> \n",
    "    <th>...</th>\n",
    "    <th>Position N</th>\n",
    "  </tr>\n",
    "  <tr>\n",
    "    <td>Time 1</td>\n",
    "    <td>Time 1</td> \n",
    "    <td>Time 1</td>\n",
    "    <td>Time 1</td>\n",
    "  </tr>\n",
    "  <tr>\n",
    "    <td>Time 2</td>\n",
    "    <td>Time 2</td> \n",
    "    <td>Time 2</td>\n",
    "    <td>Time 2</td>\n",
    "  </tr>\n",
    "  <tr>\n",
    "    <td>&#8942;</td>\n",
    "    <td>&#8942;</td> \n",
    "    <td>&#8942;</td>\n",
    "    <td>&#8942;</td>\n",
    "  </tr>\n",
    "    <tr>\n",
    "    <td>Time N</td>\n",
    "    <td>Time N</td> \n",
    "    <td>Time N</td>\n",
    "    <td>Time N</td>\n",
    "  </tr>\n",
    "</table>\n",
    "\n",
    "<p> Before we even worry about cleaning or analyzing the data, we have to upload the data. Suppose we save the data in the file <b>falltimes.csv</b>.\n",
    "\n",
    "<h2> Reading in Data Option 1: Numpy </h2>\n",
    "\n",
    "<p> When reading in data to any form of programming language, we have to be cognizant of two things. First is that there is most likely a preprogrammed function to read in data, either in .txt or .csv formats. This is great, as we don't have to worry about manually programming using input and output modules. Secondly, and more importantly, these canned functions most likely DO NOT like strings and therefore will throw an error if it tries to read in a line of headers. There are ways of dealing with this but the most simple way, and what we will be using, is to <b>SKIP READING IN THE HEADER LINE</b>.</p>\n",
    "\n",
    "<p> When reading in a csv file to python we will use the command \n",
    "\n",
    "<br / >\n",
    "<br / ><b>np.loadtxt('filename', delimiter = ',', skiprows = num, usecols = num)</b> \n",
    "<br / >\n",
    "<br / >\n",
    "which takes in as its primary arguments the filename AND the delimiter. We can also optionally specify the rows to be skipped and the columns to be used. If these are not specified then python will assume to read in all rows or all columns or both (if neither is specified). It should be noted that python <b>starts counting the rows and columns at one</b>, unlike it's indexing. Again, we want to skip the first row because of the header names so we'll use the following to upload the csv. </p>"
   ]
  },
  {
   "cell_type": "markdown",
   "metadata": {},
   "source": [
    "<p> As usual we begin by importing numpy and matplotlib </p>"
   ]
  },
  {
   "cell_type": "code",
   "execution_count": 1,
   "metadata": {
    "collapsed": true
   },
   "outputs": [],
   "source": [
    "import numpy as np\n",
    "import matplotlib.pyplot as plt\n",
    "%matplotlib inline"
   ]
  },
  {
   "cell_type": "markdown",
   "metadata": {},
   "source": [
    "<p> The data will be stored in a variable as an array; let's define the data variable as fall_times </p>"
   ]
  },
  {
   "cell_type": "code",
   "execution_count": 2,
   "metadata": {},
   "outputs": [
    {
     "name": "stdout",
     "output_type": "stream",
     "text": [
      "The size of the data array is (15, 7)\n"
     ]
    }
   ],
   "source": [
    "fall_times = np.loadtxt('falltimes.csv', delimiter=',', skiprows=1)\n",
    "print('The size of the data array is {}' .format(np.shape(fall_times)))"
   ]
  },
  {
   "cell_type": "markdown",
   "metadata": {},
   "source": [
    "<p> It's often useful to visualize the size of an array, which can be done by using the command \n",
    "<br / >\n",
    "<br / >\n",
    "<b> np.shape(array) </b>\n",
    "<br / >\n",
    "<br / >\n",
    "\n",
    "<p> Let us observe that our array of data has 15 rows, corresponding to the number of drops, and 7 columns, corresponding to the height at which the object was dropped. </p>\n",
    "\n",
    "<p>Now that we have uploaded our data we need to address the following questions: How is it stored? How can we access say all drop times from a specific drop position? How do I know what I'm working with if I don't have headers or a spreadsheet?  We can think of the shape, or size, of an array as a set of two numbers, the <b>first</b> describing the number of <b>rows</b> and the <b>second</b> describing the number of <b>columns</b>.  We can specify the entry of an array as its location in terms of row number followed by column number. For example the index of the third drop time for the first position in our array above would be given by 3, 1 and can be called as follows: </p>"
   ]
  },
  {
   "cell_type": "code",
   "execution_count": 3,
   "metadata": {},
   "outputs": [
    {
     "name": "stdout",
     "output_type": "stream",
     "text": [
      "1.93\n"
     ]
    }
   ],
   "source": [
    "print(fall_times[3, 0])"
   ]
  },
  {
   "cell_type": "markdown",
   "metadata": {},
   "source": [
    "<p> If we wanted to access all elements in a row or column we would use the the colon operator. For example if we wanted all measurements from the fourth drop we would write </p>"
   ]
  },
  {
   "cell_type": "code",
   "execution_count": 4,
   "metadata": {},
   "outputs": [
    {
     "name": "stdout",
     "output_type": "stream",
     "text": [
      "[ 1.66  1.95  1.74  1.93  2.26  1.92  1.99  2.14  1.88  1.93  1.69  1.5\n",
      "  1.92  2.19  1.88]\n"
     ]
    }
   ],
   "source": [
    "print(fall_times[:, 0])"
   ]
  },
  {
   "cell_type": "markdown",
   "metadata": {},
   "source": [
    "<h2> Reading in Data Option 2: Pandas </h2>\n",
    "\n",
    "<p> A second, an what will eventually be a more preferred option, is to use the Pandas package for uploading and managing data. Pandas, like numpy, is a power external python package. It allows the user to quickly upload datasets (it's much faster than numpy and therefore preferred when dealing with \"big data\"), query the dataset in the sense that it is a database, and  perform a variety of quick descriptive statistics. We won't delve into the beauty of Pandas right now; we will just introduce the basics of uploading data with it. <p>\n",
    "\n",
    "<p> A benefit of using Pandas is that it <b> does not have issues interpreting strings </b> and therefore we don't have to worry about skipping rows or columns. We, however, have a different issue to deal with which is that the data is not stored as an array but rather a pandas dataframe object. Again, we will not go into the specifics of the differences between arrays and dataframes right now. </p>\n",
    "\n",
    "<p> We begin by importing pandas as pd and then we will read in the datafile using the command \n",
    "\n",
    "<b>pd.read_csv('filename')</b>\n",
    "\n"
   ]
  },
  {
   "cell_type": "code",
   "execution_count": 5,
   "metadata": {
    "collapsed": true
   },
   "outputs": [],
   "source": [
    "import pandas as pd\n",
    "fall_times = pd.read_csv('falltimes.csv')"
   ]
  },
  {
   "cell_type": "markdown",
   "metadata": {},
   "source": [
    "<p> The fall_times variable is not an array but rather an object, which we can call specific methods froms. You can think of a method as a function associated with that object, which is called by naming the object followed by a period followed by the desired function/attribute. This is similar to how we call specific functions from numpy. We can see the first few lines of the dataframe by using the command\n",
    "\n",
    "<br / >\n",
    "<b> fall_times.head() </b>\n",
    "<br />\n"
   ]
  },
  {
   "cell_type": "code",
   "execution_count": 6,
   "metadata": {},
   "outputs": [
    {
     "name": "stdout",
     "output_type": "stream",
     "text": [
      "   Position 20  Position 25  Position 30  Position 35  Position 40  \\\n",
      "0         1.66         2.06         2.43         2.65         2.90   \n",
      "1         1.95         2.49         2.65         2.66         2.76   \n",
      "2         1.74         2.27         2.30         2.40         2.66   \n",
      "3         1.93         2.36         2.59         2.92         3.00   \n",
      "4         2.26         2.69         2.29         2.88         3.09   \n",
      "\n",
      "   Position 45  Position 50  \n",
      "0         3.13         3.19  \n",
      "1         3.01         3.20  \n",
      "2         3.46         3.35  \n",
      "3         2.99         3.49  \n",
      "4         2.75         2.96  \n"
     ]
    }
   ],
   "source": [
    "print(fall_times.head())\n"
   ]
  },
  {
   "cell_type": "markdown",
   "metadata": {},
   "source": [
    "<p> We see that the data is now displayed in a table format. We want to be able to access specific rows and columns, which is first accomplished by creating an array of the headers. This is done by using the command\n",
    "\n",
    "<br / >\n",
    "<b>headers = fall_times.columns.values</b>\n",
    "<br />\n",
    "\n",
    "where the variable headers contains an array of the header names.\n"
   ]
  },
  {
   "cell_type": "code",
   "execution_count": 7,
   "metadata": {},
   "outputs": [
    {
     "name": "stdout",
     "output_type": "stream",
     "text": [
      "['Position 20' 'Position 25' 'Position 30' 'Position 35' 'Position 40'\n",
      " 'Position 45' 'Position 50']\n"
     ]
    }
   ],
   "source": [
    "positions = fall_times.columns.values\n",
    "print(positions)"
   ]
  },
  {
   "cell_type": "markdown",
   "metadata": {},
   "source": [
    "<p> Now that we have the headers stored, we can call specific values of data associated with the  headers through indexing. For example we can get the drop times for the first position by first specifying the dataframe and then indexing that dataframe with the value from the headers array that you want to use, in this case <b> positions[0] </b>. Note that this will still be a pandas object. If we wanted to perform mathematical operations to this column of data, we would have to convert it to an array. "
   ]
  },
  {
   "cell_type": "code",
   "execution_count": 8,
   "metadata": {},
   "outputs": [
    {
     "name": "stdout",
     "output_type": "stream",
     "text": [
      "0     1.66\n",
      "1     1.95\n",
      "2     1.74\n",
      "3     1.93\n",
      "4     2.26\n",
      "5     1.92\n",
      "6     1.99\n",
      "7     2.14\n",
      "8     1.88\n",
      "9     1.93\n",
      "10    1.69\n",
      "11    1.50\n",
      "12    1.92\n",
      "13    2.19\n",
      "14    1.88\n",
      "Name: Position 20, dtype: float64\n",
      "<class 'pandas.core.series.Series'>\n"
     ]
    }
   ],
   "source": [
    "print(fall_times[positions[0]])\n",
    "print(type(fall_times[positions[0]]))"
   ]
  },
  {
   "cell_type": "markdown",
   "metadata": {},
   "source": [
    "<p> If we wanted the very first element from this set data we can again call it by indexing: </p>"
   ]
  },
  {
   "cell_type": "code",
   "execution_count": 9,
   "metadata": {},
   "outputs": [
    {
     "name": "stdout",
     "output_type": "stream",
     "text": [
      "1.66\n"
     ]
    }
   ],
   "source": [
    "print(fall_times[positions[0]][0])"
   ]
  },
  {
   "cell_type": "code",
   "execution_count": null,
   "metadata": {
    "collapsed": true
   },
   "outputs": [],
   "source": []
  }
 ],
 "metadata": {
  "kernelspec": {
   "display_name": "Python 3",
   "language": "python",
   "name": "python3"
  },
  "language_info": {
   "codemirror_mode": {
    "name": "ipython",
    "version": 3
   },
   "file_extension": ".py",
   "mimetype": "text/x-python",
   "name": "python",
   "nbconvert_exporter": "python",
   "pygments_lexer": "ipython3",
   "version": "3.6.2"
  }
 },
 "nbformat": 4,
 "nbformat_minor": 2
}
