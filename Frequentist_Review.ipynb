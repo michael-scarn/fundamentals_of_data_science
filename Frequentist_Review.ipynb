{
 "cells": [
  {
   "cell_type": "code",
   "execution_count": 2,
   "metadata": {
    "collapsed": true
   },
   "outputs": [],
   "source": [
    "from IPython.display import HTML\n",
    "import numpy as np\n",
    "import matplotlib.pyplot as plt\n",
    "import scipy.stats as stats\n",
    "from ipywidgets import interact, interactive, fixed, interact_manual\n",
    "%matplotlib inline"
   ]
  },
  {
   "cell_type": "code",
   "execution_count": 2,
   "metadata": {},
   "outputs": [
    {
     "data": {
      "text/html": [
       "<script>\n",
       "code_show=true; \n",
       "function code_toggle() {\n",
       " if (code_show){\n",
       " $('div.input').hide();\n",
       " } else {\n",
       " $('div.input').show();\n",
       " }\n",
       " code_show = !code_show\n",
       "} \n",
       "$( document ).ready(code_toggle);\n",
       "</script>\n",
       "The raw code for this IPython notebook is by default hidden for easier reading.\n",
       "To toggle on/off the raw code, click <a href=\"javascript:code_toggle()\">here</a>."
      ],
      "text/plain": [
       "<IPython.core.display.HTML object>"
      ]
     },
     "execution_count": 2,
     "metadata": {},
     "output_type": "execute_result"
    }
   ],
   "source": [
    "HTML('''<script>\n",
    "code_show=true; \n",
    "function code_toggle() {\n",
    " if (code_show){\n",
    " $('div.input').hide();\n",
    " } else {\n",
    " $('div.input').show();\n",
    " }\n",
    " code_show = !code_show\n",
    "} \n",
    "$( document ).ready(code_toggle);\n",
    "</script>\n",
    "The raw code for this IPython notebook is by default hidden for easier reading.\n",
    "To toggle on/off the raw code, click <a href=\"javascript:code_toggle()\">here</a>.''')"
   ]
  },
  {
   "cell_type": "markdown",
   "metadata": {},
   "source": [
    "<h1> Review of Random Variables and Freqentist Statistics </h1>"
   ]
  },
  {
   "cell_type": "markdown",
   "metadata": {},
   "source": [
    "<p> Let us consider the following situation: A ball is dropped from a height $y_{o}$ and you are sitting below with a timer, wanting to time it takes to fall, as shown below. Remembering your basic physics class you recall that you should get a time given by $t_{fall} = \\sqrt{\\frac{2y_{o}}{g}}$. If the ball is dropped from a height of 20 meters you calculate the fall time to be 2.02 seconds. Because of \"experimental\" error you take multiple measurements in order to ensure an accurate answer. </p>\n",
    "\n",
    "\n",
    "\n",
    "<p> Before moving on, use the widget below to to answer the following questions </p>\n",
    "\n",
    "<ol>\n",
    "    <li> If you only take a single measurment of the fall time, how far off is it from the predicted value? What are some reasons for this? </li>\n",
    "    <li> Using the slider, investigate the behavior of the distriubtion of arrival times. What do you notice as you increase the number of measurements?\n",
    "    <li> In the case where we have multiple measurements, what are some ways we can describe the distribution? Relate these descriptions to any \"mathematical terms\" you may have learned previously.\n",
    "</ol>\n",
    "\n",
    "\n",
    "\n"
   ]
  },
  {
   "cell_type": "code",
   "execution_count": 3,
   "metadata": {
    "collapsed": true
   },
   "outputs": [],
   "source": [
    "def free_fall_variance(y0, number_measurements, sigma):\n",
    "    \n",
    "    g = 9.81\n",
    "    t_fall = np.sqrt(2*y0/g)\n",
    "    mu = t_fall\n",
    "    t_measured = np.random.normal(mu, sigma, number_measurements)\n",
    "    t_measured = np.round(t_measured, 2)\n",
    "    \n",
    "    return t_measured\n",
    "\n"
   ]
  },
  {
   "cell_type": "code",
   "execution_count": 4,
   "metadata": {},
   "outputs": [
    {
     "data": {
      "application/vnd.jupyter.widget-view+json": {
       "model_id": "ad172017470049efbe9d00af37da6dce"
      }
     },
     "metadata": {},
     "output_type": "display_data"
    }
   ],
   "source": [
    "def f(number_measurements):\n",
    "    \n",
    "    t_measured = free_fall_variance(20, number_measurements, 0.25)\n",
    "    binsize = np.int(np.round(np.sqrt(len(t_measured)))/(np.max(t_measured)-np.min(t_measured)))\n",
    "    fig = plt.figure()\n",
    "    ax = fig.add_subplot(111)\n",
    "    ax.hist(t_measured, edgecolor = 'black', bins = 20)\n",
    "    ax.set_xlim([1, 3])\n",
    "    ax.set_xlabel('Drop time (seconds)')\n",
    "    ax.set_ylabel('Count')\n",
    "    ax.set_title('Distribution of Ball Drop Times')\n",
    "    plt.show()\n",
    "    \n",
    "    return \n",
    "interact(f, number_measurements = (5, 1000))\n",
    "plt.show()\n",
    "        \n",
    "        \n",
    "\n"
   ]
  },
  {
   "cell_type": "markdown",
   "metadata": {
    "collapsed": true
   },
   "source": [
    "<p3> Now let us consider the case where have 500 measurements, as shown below. </p3>"
   ]
  },
  {
   "cell_type": "code",
   "execution_count": 55,
   "metadata": {},
   "outputs": [
    {
     "data": {
      "image/png": "[encoded data removed]",
      "text/plain": [
       "<matplotlib.figure.Figure at 0x1164c3630>"
      ]
     },
     "metadata": {},
     "output_type": "display_data"
    }
   ],
   "source": [
    "t_measured_fixed = free_fall_variance(20, 1000, 0.25)\n",
    "fig = plt.figure()\n",
    "ax = fig.add_subplot(111)\n",
    "ax.hist(t_measured_fixed, edgecolor = 'black', bins = 20)\n",
    "ax.set_xlim([1, 3])\n",
    "ax.set_ylim([0, 175])\n",
    "ax.set_xlabel('Drop time (seconds)')\n",
    "ax.set_ylabel('Count')\n",
    "ax.set_title('Distribution of Ball Drop Times')\n",
    "plt.show()"
   ]
  },
  {
   "cell_type": "markdown",
   "metadata": {},
   "source": [
    "<h2> Definition of terms </h2>\n",
    "\n",
    "<h3> Histograms </h3>\n",
    "\n",
    "<p> \n",
    "As we increase the number of measurements the easiest way to view the data is in graphical form, as opposed to a long list of numbers. If we are looking at a single measurement, or observable, a useful way to view the data is in terms of a histogram (shown above). In a histogram we group data within a certain interval defined as bin size and count the number of times a data point shows up in a given bin. From here we can see how often shows which then allows us to have an idea where a new measurement might fall. </p>\n",
    "\n",
    "<h3> Descriptive/Frequentist Statistics </h3>\n",
    "\n",
    "<p> \n",
    "We see that not all of the data fall within a given bin as there is some error, or noise, in our ability to measure the drop time. We define the observable in this case as a random variate because each time we measure the observable we don't get the same value. Thus we want to address the following questions and be able to quantify them mathematically. \n",
    "\n",
    "    <ol>\n",
    "        <li> What is the most frequent outcome? </li>\n",
    "        <li> If we were to take a single measurement what is the most likely outcome? </li>\n",
    "        <li> How much does our data vary? </li>\n",
    "        <li> How do the previous questions influence the shape of the histogram? </li>\n",
    "    </ol>\n",
    "</p> \n",
    "<p> We can answer the above questions by defining the following terms. \n",
    "\n",
    "    <ol>\n",
    "        <li> Mode: The most common occurrence of a given value </li>\n",
    "        <li> Mean (also known as average or expected value): $\\bar{x} = <x> = \\frac{\\sum_{i=1}^{N} x_{i}}{N}$ </li>\n",
    "        <li> Standard Deviation: $\\sigma =  \\sqrt{<x - <x>>^{2}} = \\sqrt{\\frac{\\sum_{i=1}^{N}(x_{i}-<x>)^{2}}{N}}$  </li>\n",
    "        \n",
    "    </ol>\n",
    "</p>\n",
    "\n",
    "<p>\n",
    "At this point we will not worry about the mathematical definitions of these terms but rather their qualitative behavior. If we look at the distribution of drop times, the most frequent occurrence is given by the tallest bin. This is defined as the mode, and is calculated by just counting the occurences in each bin and picking the one with the highest count. The mean is defined as an average of all the drop times. The mean is a reflection of all of the drop times and is particularly sensitive to outlying data, which will be discussed later. The most important of these terms is the standard deviation, which can also be thought of as the uncertainty on a given measurement. If we were to drop a single ball and measure its fall time, it is unlikely that we would get the exact drop time of 2.02 seconds, rather we would get the drop time plus or minus some variation. The standard deviation is a way to measure the variation about a central value of the data (the mean). The studying and quantifying uncertainties will be very important in our study of model estimation, as it reflects our confidence in a given measurement. In the case of the histogram, the standard deviation can be roughly thought of as the width of a distribution, where wide distributions have a high standard deviation and thin distributions have a low standard deviation. </p>\n",
    "\n",
    "<p> Using the widget below, investigate how the standard deviation influences the distribution of drop times. </p>\n",
    "\n"
   ]
  },
  {
   "cell_type": "code",
   "execution_count": 6,
   "metadata": {},
   "outputs": [
    {
     "data": {
      "application/vnd.jupyter.widget-view+json": {
       "model_id": "a9be84c8b4fc4505a25b9e45f478ce12"
      }
     },
     "metadata": {},
     "output_type": "display_data"
    }
   ],
   "source": [
    "def f(standard_deviation):\n",
    "    \n",
    "    t_measured = free_fall_variance(20, 1000, standard_deviation)\n",
    "    binsize = np.int(np.round(np.sqrt(len(t_measured)))/(np.max(t_measured)-np.min(t_measured)))\n",
    "    fig = plt.figure()\n",
    "    ax = fig.add_subplot(111)\n",
    "    ax.hist(t_measured, edgecolor = 'black', bins = 25)\n",
    "    ax.set_xlim([0, 4])\n",
    "    ax.set_xlabel('Drop time (seconds)')\n",
    "    ax.set_ylabel('Count')\n",
    "    ax.set_title('Distribution of Ball Drop Times')\n",
    "    ax.set_ylim([0, 225])\n",
    "    plt.show()\n",
    "    \n",
    "    return \n",
    "interact(f, standard_deviation = (0.02, 0.75))\n",
    "plt.show()"
   ]
  },
  {
   "cell_type": "code",
   "execution_count": 68,
   "metadata": {},
   "outputs": [
    {
     "name": "stdout",
     "output_type": "stream",
     "text": [
      "[[ 1.66  2.06  2.43  2.65  2.9   3.13  3.19]\n",
      " [ 1.95  2.49  2.65  2.66  2.76  3.01  3.2 ]\n",
      " [ 1.74  2.27  2.3   2.4   2.66  3.46  3.35]\n",
      " [ 1.93  2.36  2.59  2.92  3.    2.99  3.49]\n",
      " [ 2.26  2.69  2.29  2.88  3.09  2.75  2.96]\n",
      " [ 1.92  2.18  2.34  2.57  2.99  3.27  3.19]\n",
      " [ 1.99  1.85  2.58  2.82  2.59  3.14  3.14]\n",
      " [ 2.14  2.12  1.99  2.57  2.9   3.09  3.13]\n",
      " [ 1.88  2.15  2.12  2.72  2.89  3.15  3.27]\n",
      " [ 1.93  2.59  2.3   2.92  2.93  3.15  3.51]\n",
      " [ 1.69  2.18  2.31  2.56  2.79  2.85  3.15]\n",
      " [ 1.5   2.37  2.7   2.85  2.81  3.24  2.94]\n",
      " [ 1.92  2.23  2.71  2.57  2.82  2.96  3.35]\n",
      " [ 2.19  2.1   2.51  2.47  2.63  3.05  3.14]\n",
      " [ 1.88  2.12  2.69  2.87  3.11  3.36  3.28]]\n"
     ]
    }
   ],
   "source": [
    "droptimes = np.zeros((15, 7))\n",
    "distances = np.arange(20, 55, 5)\n",
    "\n",
    "for d in range(len(distances)):\n",
    "    \n",
    "    droptimes[:, d] = free_fall_variance(distances[d], 15, 0.20)\n",
    "    \n",
    "\n",
    "    \n",
    "print(droptimes)\n",
    "names = ['Distance: 35', 'Distance: 30', 'Distance: 25', 'Distance: 20', 'Distance: 15', 'Distance: 10', 'Distance: 5']\n",
    "\n",
    "np.vstack((names, droptimes))\n",
    "np.savetxt('fall_1.csv', droptimes, fmt='%.18e', delimiter=' ', newline='\\n')\n",
    "\n"
   ]
  },
  {
   "cell_type": "code",
   "execution_count": 50,
   "metadata": {},
   "outputs": [
    {
     "name": "stdout",
     "output_type": "stream",
     "text": [
      "[ 1.93  1.81  2.02  2.03  1.87  1.85  1.92  2.33  1.74  1.88  1.79  2.14\n",
      "  2.08  1.98  1.51]\n"
     ]
    }
   ],
   "source": [
    "print(t1)\n",
    "        "
   ]
  },
  {
   "cell_type": "code",
   "execution_count": null,
   "metadata": {
    "collapsed": true
   },
   "outputs": [],
   "source": []
  },
  {
   "cell_type": "code",
   "execution_count": null,
   "metadata": {
    "collapsed": true
   },
   "outputs": [],
   "source": []
  }
 ],
 "metadata": {
  "kernelspec": {
   "display_name": "Python 3",
   "language": "python",
   "name": "python3"
  },
  "language_info": {
   "codemirror_mode": {
    "name": "ipython",
    "version": 3
   },
   "file_extension": ".py",
   "mimetype": "text/x-python",
   "name": "python",
   "nbconvert_exporter": "python",
   "pygments_lexer": "ipython3",
   "version": "3.6.2"
  }
 },
 "nbformat": 4,
 "nbformat_minor": 2
}
