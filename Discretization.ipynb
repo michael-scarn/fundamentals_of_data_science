{
 "cells": [
  {
   "cell_type": "code",
   "execution_count": 1,
   "metadata": {
    "collapsed": true
   },
   "outputs": [],
   "source": [
    "from IPython.display import HTML\n",
    "import numpy as np\n",
    "import matplotlib.pyplot as plt\n",
    "import scipy.stats as stats\n",
    "from scipy.linalg import toeplitz\n",
    "import matplotlib.gridspec as gridspec\n",
    "from ipywidgets import interact, interactive, fixed, interact_manual\n",
    "%matplotlib inline"
   ]
  },
  {
   "cell_type": "code",
   "execution_count": 2,
   "metadata": {},
   "outputs": [
    {
     "data": {
      "text/html": [
       "<script>\n",
       "code_show=true; \n",
       "function code_toggle() {\n",
       " if (code_show){\n",
       " $('div.input').hide();\n",
       " } else {\n",
       " $('div.input').show();\n",
       " }\n",
       " code_show = !code_show\n",
       "} \n",
       "$( document ).ready(code_toggle);\n",
       "</script>\n",
       "The raw code for this IPython notebook is by default hidden for easier reading.\n",
       "To toggle on/off the raw code, click <a href=\"javascript:code_toggle()\">here</a>."
      ],
      "text/plain": [
       "<IPython.core.display.HTML object>"
      ]
     },
     "execution_count": 2,
     "metadata": {},
     "output_type": "execute_result"
    }
   ],
   "source": [
    "HTML('''<script>\n",
    "code_show=true; \n",
    "function code_toggle() {\n",
    " if (code_show){\n",
    " $('div.input').hide();\n",
    " } else {\n",
    " $('div.input').show();\n",
    " }\n",
    " code_show = !code_show\n",
    "} \n",
    "$( document ).ready(code_toggle);\n",
    "</script>\n",
    "The raw code for this IPython notebook is by default hidden for easier reading.\n",
    "To toggle on/off the raw code, click <a href=\"javascript:code_toggle()\">here</a>.''')"
   ]
  },
  {
   "cell_type": "markdown",
   "metadata": {},
   "source": [
    "<h3> Discretization </h3>\n",
    "\n",
    "<p> If we think back to high school algebra, you might remember the concept of a function. Recall that a function $y = f(x)$ is a relationship between an independent variable $x$ and a dependent variable $y$. Often times when you plotted functions in high school, you used a graphing calculator and plugged in the function, for example $y=x^{2}$, and miraculously a plot of a parabola appeared on your screen! In our case we want to go back even further and think about when we plotted functions by hand. Often times you would create a table of values (shown below), plot the points, and then connect them to graph the function. The more points you had the smoother the plot would become. </p>\n",
    "\n",
    "    \n",
    "<div id=\"header\" style=\"height:75%;width:75%;\">\n",
    "    <div style='float:left'>\n",
    "        <img src=\"Ch1S1F2.png\" style=\"margin-left:15%;margin-top:-5%\"/>\n",
    "    </div>\n",
    "    <div style='float:left'>\n",
    "        <table border=\"2\" style=\"margin-left:50%;margin-top:15%;\"> \n",
    "            <tr>\n",
    "                <th >input</th>\n",
    "                <th>output</th> \n",
    "              </tr>\n",
    "              <tr>\n",
    "                <td>-2</td>\n",
    "                <td>4</td> \n",
    "              </tr>\n",
    "               <tr>\n",
    "                <td>-1</td>\n",
    "                <td>1</td> \n",
    "              </tr>\n",
    "               <tr>\n",
    "                <td>0</td>\n",
    "                <td>0</td> \n",
    "              </tr>\n",
    "               <tr>\n",
    "                <td>1</td>\n",
    "                <td>1</td> \n",
    "              </tr>\n",
    "               <tr>\n",
    "                <td>2</td>\n",
    "                <td>4</td> \n",
    "              </tr>\n",
    "        </table>\n",
    "    </div>\n",
    "</div>\n",
    "\n"
   ]
  },
  {
   "cell_type": "markdown",
   "metadata": {},
   "source": [
    "<p>\n",
    "When you were plotting functions by hand you were discritizing the system.  But before we get there let's review discritization. There a two quantities that define a discretized system: \n",
    "<ol>\n",
    "<li>the number of points used </li>\n",
    "<li> the space between the points </li>\n",
    "</ol>\n",
    "Let us define the number of points as $N$ and the the grid spacing as $dx$. The grid, also sometimes called the mesh, is defined as the set of values of the dependent variable, which can be represented as the vector $\\vec{x} = (x_{1}, x_{2}...x_{i}...x_{N})$. We then operate a function $f$ on our grid to get the dependent variable $\\vec{y} = (y_{1}, y_{2}...y_{i}...y_{N})$, which then allows us to plot the function. \n",
    "\n",
    "</p>\n",
    "\n",
    "<p> Using the widget below, investigate what happens to the function $y = x^{2}$ when you alter the number of points used. </p>"
   ]
  },
  {
   "cell_type": "code",
   "execution_count": 9,
   "metadata": {},
   "outputs": [
    {
     "ename": "NameError",
     "evalue": "name 'interact' is not defined",
     "output_type": "error",
     "traceback": [
      "\u001b[0;31m---------------------------------------------------------------------------\u001b[0m",
      "\u001b[0;31mNameError\u001b[0m                                 Traceback (most recent call last)",
      "\u001b[0;32m<ipython-input-9-861a7ead9a7e>\u001b[0m in \u001b[0;36m<module>\u001b[0;34m()\u001b[0m\n\u001b[1;32m     19\u001b[0m \u001b[0;34m\u001b[0m\u001b[0m\n\u001b[1;32m     20\u001b[0m     \u001b[0;32mreturn\u001b[0m\u001b[0;34m\u001b[0m\u001b[0m\n\u001b[0;32m---> 21\u001b[0;31m \u001b[0minteract\u001b[0m\u001b[0;34m(\u001b[0m\u001b[0mf\u001b[0m\u001b[0;34m,\u001b[0m \u001b[0mN\u001b[0m \u001b[0;34m=\u001b[0m \u001b[0;34m(\u001b[0m\u001b[0;36m2\u001b[0m\u001b[0;34m,\u001b[0m \u001b[0;36m20\u001b[0m\u001b[0;34m)\u001b[0m\u001b[0;34m)\u001b[0m\u001b[0;34m\u001b[0m\u001b[0m\n\u001b[0m\u001b[1;32m     22\u001b[0m \u001b[0mplt\u001b[0m\u001b[0;34m.\u001b[0m\u001b[0mshow\u001b[0m\u001b[0;34m(\u001b[0m\u001b[0;34m)\u001b[0m\u001b[0;34m\u001b[0m\u001b[0m\n",
      "\u001b[0;31mNameError\u001b[0m: name 'interact' is not defined"
     ]
    }
   ],
   "source": [
    "def f(N):\n",
    "    \n",
    "    x_min = -5\n",
    "    x_max = 5\n",
    "    dx = (x_max-x_min)/(N)\n",
    "    x = np.linspace(x_min, x_max, N)\n",
    "    y = x**2\n",
    "    fig = plt.figure()\n",
    "    ax = fig.add_subplot(111)\n",
    "    ax.scatter(x,np.zeros(len(x)), color = 'red', label = 'Grid')\n",
    "    ax.plot(x, y, marker = 'o', linestyle = '-', color = 'blue', alpha = 0.8, label = 'Discretized Functon')\n",
    "    ax.plot(np.linspace(-5, 5, 1000), np.linspace(-5, 5, 1000)**2, color = 'k', alpha =0.5, label = 'Exact Function')\n",
    "    ax.set_xlim([-6, 6])\n",
    "    ax.set_xlabel('x')\n",
    "    ax.set_ylabel('y')\n",
    "    ax.legend(loc = 0)\n",
    "    ax.legend(bbox_to_anchor=(1.75, 1))\n",
    "    plt.show()\n",
    "    \n",
    "    return \n",
    "interact(f, N = (2, 20))\n",
    "plt.show()"
   ]
  },
  {
   "cell_type": "markdown",
   "metadata": {
    "collapsed": true
   },
   "source": [
    "<h2> Thinking Like a Computer Scientist </h2>\n",
    "\n",
    "<p> When programming we have to take a problem we want to solve, break the problem down into smaller parts, and then translate those parts in a way that the computer understands. Let's use the example of plotting a curve by hand in order to better understand the problem. We know that the end result, i.e the solution of the problem, is a graph of the parabola. Let's look at the process we used to plot the parabola. First we defined two <b>variables</b>, one for the input and one for the output. Second we specified a set of points we wanted to evaluate the given function at, which computationally we define as the <b>grid points</b>. Now let's think about this step a little more deeply. \n",
    "<br / >\n",
    "<br / >\n",
    "We can either specify the number of grid points we want to use or we could have defined our grid based on the spacing between the points. We then performed an operation on each grid point $x_{i}$ in order to get the desired output value $y_{i}$. Lastly we plotted the points and connected the dots. Keep in mind how we broke this problem down, as this is the approach you should always use when approaching a problem computationally. </p>\n",
    "\n",
    "<h3> Variables </h3>\n",
    "\n",
    "The first step in any programming task is to define the variables needed for your problem, which could be your data or a set of outputs of a given function. It is imperative that you always define your variables as this is how the computer interprets the task you want to complete. Variables store information and are not limited to just numbers as we are used to from algebra. In scientific computing variables can represent a variety of different quantities but for our interest we will be mainly dealing with <b>integers</b> (whole numbers), <b>floats</b> (decimals), <b>strings</b> (words), and <b>arrays</b> (groupings of numbers/data/information). Right now we will not concern ourselves with the specific types of variables and their uses but rather will focus on how to define a variable, as shown below.\n"
   ]
  },
  {
   "cell_type": "code",
   "execution_count": 16,
   "metadata": {
    "collapsed": true
   },
   "outputs": [],
   "source": [
    "# Comments in Python are not read as commands and a preceded by #\n",
    "# Comments make your code readable\n",
    "# These are some examples of variables\n",
    "\n",
    "# Always put the following at the start of your python program\n",
    "# Numpy and Matplotlib are the required modules for linear algebra/numerical recipes and plotting\n",
    "\n",
    "import numpy as np\n",
    "import matplotlib.pyplot as plt\n",
    "% matplotlib inline\n",
    "\n",
    "# Let's define some variables\n",
    "\n",
    "x = 3\n",
    "grid_points = np.arange(1, 17, 1)\n",
    "banana = grid_points**2"
   ]
  },
  {
   "cell_type": "markdown",
   "metadata": {},
   "source": [
    "<h3>Arrays and Storing Multiple Values</h3>\n",
    "\n",
    "<p>\n",
    "Before moving on to the next step of plotting our function by hand, let's exploit the power of the computer: to do repetitive takes quickly. When plotting the function by hand we would take a single point, perform the operation to get the desired output, and then repeat for each point we have. Fortunately for us, computers can automate this task rather simply so that we only need one command to deal with multiple points.  <p> \n",
    "\n"
   ]
  },
  {
   "cell_type": "markdown",
   "metadata": {},
   "source": [
    "<p>\n",
    "Because we are dealing with a one dimensional problem the array will have shape ($N \\times 1$) where $N$ is the number of grid points. Now we want to initialize this array in python. There are two ways to do this. First we can specify the minimum and maximum values of our grid and then the interval between each consecutive grid point. Alternatively we could specify the number of points we want between the end points, which is accomplished through the function <b>linspace</b>.\n",
    "\n",
    "<br / >\n",
    "<br / >\n",
    "In order to generate arrays of numbers at a given interval in python we will use the function <b>arange(min, max, spacing)</b> from numpy. I assume that we are working in the same script and numpy and matplotlib.pyplot have already been imported. NOTE: The arange() function does not include the last value, so we want to add an extra dx to the end point.\n",
    "</p>"
   ]
  },
  {
   "cell_type": "code",
   "execution_count": 27,
   "metadata": {
    "collapsed": true
   },
   "outputs": [],
   "source": [
    "# First let's define the minimum, maximum, and spacing for the parabola\n",
    "\n",
    "x_min = -2\n",
    "x_max = 2\n",
    "dx = 0.1\n",
    "\n",
    "# Create grid\n",
    "# Note the function arange belongs to the package numpy so we have to tell python that\n",
    "# This is done by putting np followed py a period (.) before the function\n",
    "\n",
    "x_grid = np.arange(x_min, x_max+dx, dx)"
   ]
  },
  {
   "cell_type": "code",
   "execution_count": 26,
   "metadata": {},
   "outputs": [],
   "source": [
    "\n",
    "\n",
    "\n",
    "\n",
    "# Now lets create a new grid using the linspace command\n",
    "\n",
    "Npts = 25\n",
    "z_min = -2\n",
    "z_max = 2\n",
    "z_grid = np.linspace(z_min, z_max, Npts)\n"
   ]
  },
  {
   "cell_type": "markdown",
   "metadata": {},
   "source": [
    "<h3> Operations </h3>\n",
    "\n",
    "Python can, of course, perform standard mathematical operations. If you are dealing with scalars (single numbers) then you do not have to worry about element by element or matrix operations. This section deals with operations involving arrays. When dealing with arrays we have to worry about how each element in the array is treated. Right now are NOT dealing with matrix multiplication. Let's say we had a vector of data given by \n",
    "\n",
    "\\begin{equation}\n",
    "\\vec{x} = \\begin{pmatrix} \n",
    "   1\n",
    "\\\\ 2\n",
    "\\\\ 3\n",
    "\\\\ 4 \n",
    "\\\\ 5\n",
    "\\end{pmatrix}\n",
    "\\end{equation}\n",
    "\n",
    "\n",
    "Suppose we wanted to define a new vector $\\vec{y}$ such that the values in $\\vec{y}$ are the squared elements of $\\vec{x}$ such that \n",
    "\n",
    "\\begin{equation}\n",
    "\\vec{y} = \\begin{pmatrix} \n",
    "   1\n",
    "\\\\ 4\n",
    "\\\\ 9\n",
    "\\\\ 16 \n",
    "\\\\ 25\n",
    "\\end{pmatrix}\n",
    "\\end{equation}\n",
    "\n",
    "\n",
    "Python assumes element by element operations. Therefore we need to just square the array. Note: Exponentiation in python is given by two asterisks **"
   ]
  },
  {
   "cell_type": "code",
   "execution_count": 18,
   "metadata": {
    "collapsed": true
   },
   "outputs": [],
   "source": [
    "# Define the output variable y as the parabola y = x**2\n",
    " \n",
    "\n",
    "y = x_grid**2"
   ]
  },
  {
   "cell_type": "markdown",
   "metadata": {},
   "source": [
    "<h2>Simple Plotting </h2>\n",
    "\n",
    "<p>\n",
    "Now that we have our discretized system, we want to plot the solution! This section only covers the very basics of plotting (i.e not making pretty figures). A more advanced treatment of figures will be given in the next chapter. \n",
    "\n",
    "The plotting in python may at first appear to be  complicated, however, python's plotting routines are very powerful. The steps to create a python plot are as follows:\n",
    "\n",
    "<ol>\n",
    "    <li>Generate a figure </li>\n",
    "    <li> Create an axis object for that figure </li>\n",
    "    <li> Plot the data </li>\n",
    "    <li> Specify figure parameters </li>\n",
    "</ol>\n",
    "\n",
    "The following commands will be used to generate the figure. Descriptions of the commands will be in unbolded brackets. \n",
    "\n",
    "<ol>\n",
    "    <li> <b>fig = plt.figure()</b> [Creates figure object] </li>\n",
    "    <li> <b>ax = fig.add_subplot(111)</b> [Create axes on figure] </li>\n",
    "    <li> <b>ax.plot(vec1, vec2, 'color', label = 'LABEL')</b> [Generates a curve in which points are connected by solid lines with legend name given in the quotations] </li>\n",
    "    <li> <b>ax.set_xlim([min, max])</b> [Generates the x-axis limits] </li>\n",
    "    <li> <b>ax.set_ylim([min, max]</b> [Generates the y-axis limits] </li>\n",
    "    <li> <b>ax.set_xlabel('LABEL')</b> [Generates x-axis label with name given inside the quotation marks] </li>\n",
    "    <li> <b>ax.set_ylabel('LABEL')</b> [Generates y-axis label with name given inside the quotation marks] </li>\n",
    "    <li> <b>ax.set_title('LABEL')</b> [Generates a title for the graph with name given inside the quotation marks] </li>\n",
    "    <li> <b>ax.legend()</b> [Generates a legend for the plot] </li>\n",
    "    <li> <b>plt.show() </b>[Displays figure] </li>\n",
    "<ol>\n",
    "\n"
   ]
  },
  {
   "cell_type": "code",
   "execution_count": 19,
   "metadata": {},
   "outputs": [
    {
     "data": {
      "image/png": "[encoded data removed]",
      "text/plain": [
       "<matplotlib.figure.Figure at 0x10fc54dd8>"
      ]
     },
     "metadata": {},
     "output_type": "display_data"
    }
   ],
   "source": [
    "# This is a template for a simple plot in python\n",
    "\n",
    "# Initialize figure and create axis object\n",
    "fig = plt.figure()\n",
    "ax = fig.add_subplot(111)\n",
    "\n",
    "# Plot data\n",
    "ax.plot(x_grid, y, label = 'y = f(x)', color = 'blue', alpha = 0.5)\n",
    "\n",
    "# Set figure attributes\n",
    "ax.set_xlim([-5, 5])\n",
    "ax.set_ylim([-5, 5])\n",
    "\n",
    "ax.set_xlabel('x')\n",
    "ax.set_ylabel('y')\n",
    "ax.set_title('A Simple Plot')\n",
    "\n",
    "ax.legend()\n",
    "plt.show()"
   ]
  },
  {
   "cell_type": "code",
   "execution_count": null,
   "metadata": {
    "collapsed": true
   },
   "outputs": [],
   "source": []
  },
  {
   "cell_type": "code",
   "execution_count": null,
   "metadata": {
    "collapsed": true
   },
   "outputs": [],
   "source": []
  },
  {
   "cell_type": "code",
   "execution_count": null,
   "metadata": {
    "collapsed": true
   },
   "outputs": [],
   "source": []
  }
 ],
 "metadata": {
  "kernelspec": {
   "display_name": "Python 3",
   "language": "python",
   "name": "python3"
  },
  "language_info": {
   "codemirror_mode": {
    "name": "ipython",
    "version": 3
   },
   "file_extension": ".py",
   "mimetype": "text/x-python",
   "name": "python",
   "nbconvert_exporter": "python",
   "pygments_lexer": "ipython3",
   "version": "3.6.2"
  }
 },
 "nbformat": 4,
 "nbformat_minor": 2
}
