{
 "cells": [
  {
   "cell_type": "code",
   "execution_count": 1,
   "metadata": {
    "collapsed": true
   },
   "outputs": [],
   "source": [
    "from IPython.display import HTML\n",
    "import numpy as np\n",
    "import matplotlib.pyplot as plt\n",
    "import scipy.stats as stats\n",
    "from scipy.linalg import toeplitz\n",
    "import matplotlib.gridspec as gridspec\n",
    "from ipywidgets import interact, interactive, fixed, interact_manual\n",
    "%matplotlib inline"
   ]
  },
  {
   "cell_type": "code",
   "execution_count": 2,
   "metadata": {},
   "outputs": [
    {
     "data": {
      "text/html": [
       "<script>\n",
       "code_show=true; \n",
       "function code_toggle() {\n",
       " if (code_show){\n",
       " $('div.input').hide();\n",
       " } else {\n",
       " $('div.input').show();\n",
       " }\n",
       " code_show = !code_show\n",
       "} \n",
       "$( document ).ready(code_toggle);\n",
       "</script>\n",
       "The raw code for this IPython notebook is by default hidden for easier reading.\n",
       "To toggle on/off the raw code, click <a href=\"javascript:code_toggle()\">here</a>."
      ],
      "text/plain": [
       "<IPython.core.display.HTML object>"
      ]
     },
     "execution_count": 2,
     "metadata": {},
     "output_type": "execute_result"
    }
   ],
   "source": [
    "HTML('''<script>\n",
    "code_show=true; \n",
    "function code_toggle() {\n",
    " if (code_show){\n",
    " $('div.input').hide();\n",
    " } else {\n",
    " $('div.input').show();\n",
    " }\n",
    " code_show = !code_show\n",
    "} \n",
    "$( document ).ready(code_toggle);\n",
    "</script>\n",
    "The raw code for this IPython notebook is by default hidden for easier reading.\n",
    "To toggle on/off the raw code, click <a href=\"javascript:code_toggle()\">here</a>.''')"
   ]
  },
  {
   "cell_type": "markdown",
   "metadata": {},
   "source": [
    "<h3> Discretization </h3>\n",
    "\n",
    "<p> If we think back to high school algebra, you might remember the concept of a function. Recall that a function $y = f(x)$ is a relationship between an independent variable $x$ and a dependent variable $y$. Often times when you plotted functions in high school, you used a graphing calculator and plugged in the function, for example $y=x^{2}$, and miraculously a plot of a parabola appeared on your screen! In our case we want to go back even further and think about when we plotted functions by hand. Often times you would create a table of values (shown below), plot the points, and then connect them to graph the function. The more points you had the smoother the plot would become. </p>\n",
    "\n",
    "    \n",
    "<div id=\"header\" style=\"height:75%;width:75%;\">\n",
    "    <div style='float:left'>\n",
    "        <img src=\"Ch1S1F2.png\" style=\"margin-left:15%;margin-top:-5%\"/>\n",
    "    </div>\n",
    "    <div style='float:left'>\n",
    "        <table border=\"2\" style=\"margin-left:50%;margin-top:15%;\"> \n",
    "            <tr>\n",
    "                <th >input</th>\n",
    "                <th>output</th> \n",
    "              </tr>\n",
    "              <tr>\n",
    "                <td>-2</td>\n",
    "                <td>4</td> \n",
    "              </tr>\n",
    "               <tr>\n",
    "                <td>-1</td>\n",
    "                <td>1</td> \n",
    "              </tr>\n",
    "               <tr>\n",
    "                <td>0</td>\n",
    "                <td>0</td> \n",
    "              </tr>\n",
    "               <tr>\n",
    "                <td>1</td>\n",
    "                <td>1</td> \n",
    "              </tr>\n",
    "               <tr>\n",
    "                <td>2</td>\n",
    "                <td>4</td> \n",
    "              </tr>\n",
    "        </table>\n",
    "    </div>\n",
    "</div>\n",
    "\n"
   ]
  },
  {
   "cell_type": "markdown",
   "metadata": {},
   "source": [
    "<p>\n",
    "When you were plotting functions by hand you were discritizing the system.  But before we get there let's review discritization. There a two quantities that define a discretized system: \n",
    "<ol>\n",
    "<li>the number of points used </li>\n",
    "<li> the space between the points </li>\n",
    "</ol>\n",
    "Let us define the number of points as $N$ and the the grid spacing as $dx$. The grid, also sometimes called the mesh, is defined as the set of values of the dependent variable, which can be represented as the vector $\\vec{x} = (x_{1}, x_{2}...x_{i}...x_{N})$. We then operate a function $f$ on our grid to get the dependent variable $\\vec{y} = (y_{1}, y_{2}...y_{i}...y_{N})$, which then allows us to plot the function. \n",
    "\n",
    "</p>\n",
    "\n",
    "<p> Using the widget below, investigate what happens to the function $y = x^{2}$ when you alter the number of points used. </p>"
   ]
  },
  {
   "cell_type": "code",
   "execution_count": 3,
   "metadata": {},
   "outputs": [
    {
     "name": "stderr",
     "output_type": "stream",
     "text": [
      "Widget Javascript not detected.  It may not be installed or enabled properly.\n"
     ]
    },
    {
     "data": {
      "application/vnd.jupyter.widget-view+json": {
       "model_id": "9a115d99179b4ab499e987dd18e8cb0e"
      }
     },
     "metadata": {},
     "output_type": "display_data"
    }
   ],
   "source": [
    "def f(N):\n",
    "    \n",
    "    x_min = -5\n",
    "    x_max = 5\n",
    "    dx = (x_max-x_min)/(N)\n",
    "    x = np.linspace(x_min, x_max, N)\n",
    "    y = x**2\n",
    "    fig = plt.figure()\n",
    "    ax = fig.add_subplot(111)\n",
    "    ax.scatter(x,np.zeros(len(x)), color = 'red', label = 'Grid')\n",
    "    ax.plot(x, y, marker = 'o', linestyle = '-', color = 'blue', alpha = 0.8, label = 'Discretized Functon')\n",
    "    ax.plot(np.linspace(-5, 5, 1000), np.linspace(-5, 5, 1000)**2, color = 'k', alpha =0.5, label = 'Exact Function')\n",
    "    ax.set_xlim([-6, 6])\n",
    "    ax.set_xlabel('x')\n",
    "    ax.set_ylabel('y')\n",
    "    ax.legend(loc = 0)\n",
    "    ax.legend(bbox_to_anchor=(1.75, 1))\n",
    "    plt.show()\n",
    "    \n",
    "    return \n",
    "interact(f, N = (2, 20))\n",
    "plt.show()"
   ]
  },
  {
   "cell_type": "code",
   "execution_count": null,
   "metadata": {
    "collapsed": true
   },
   "outputs": [],
   "source": []
  }
 ],
 "metadata": {
  "kernelspec": {
   "display_name": "Python 3",
   "language": "python",
   "name": "python3"
  },
  "language_info": {
   "codemirror_mode": {
    "name": "ipython",
    "version": 3
   },
   "file_extension": ".py",
   "mimetype": "text/x-python",
   "name": "python",
   "nbconvert_exporter": "python",
   "pygments_lexer": "ipython3",
   "version": "3.6.2"
  }
 },
 "nbformat": 4,
 "nbformat_minor": 2
}
